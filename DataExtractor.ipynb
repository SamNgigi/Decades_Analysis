{
 "cells": [
  {
   "cell_type": "code",
   "execution_count": 9,
   "id": "separate-oriental",
   "metadata": {},
   "outputs": [],
   "source": [
    "from typing import List, Dict\n",
    "import wikipediaapi as wk\n"
   ]
  },
  {
   "cell_type": "code",
   "execution_count": 52,
   "id": "wooden-google",
   "metadata": {},
   "outputs": [],
   "source": [
    "class DataExtractor():\n",
    "    \n",
    "    def __init__(self, start:int=1900, stop:int=2000, drange:list=None)->None:\n",
    "        self.start = start\n",
    "        self.stop = stop\n",
    "        self.drange = drange\n",
    "\n",
    "    "
   ]
  },
  {
   "cell_type": "code",
   "execution_count": 56,
   "id": "induced-herald",
   "metadata": {},
   "outputs": [],
   "source": [
    "def generate_drange(start, stop)->List[str]:\n",
    "        \"\"\"\n",
    "        Returns list of decades\n",
    "        \"\"\"\n",
    "        return [f\"{str(i)}s\" for i in range(start, stop+1, 10)]"
   ]
  },
  {
   "cell_type": "code",
   "execution_count": null,
   "id": "liberal-protein",
   "metadata": {},
   "outputs": [],
   "source": []
  }
 ],
 "metadata": {
  "kernelspec": {
   "display_name": "Python3.8 (DS)",
   "language": "python",
   "name": "ds"
  },
  "language_info": {
   "codemirror_mode": {
    "name": "ipython",
    "version": 3
   },
   "file_extension": ".py",
   "mimetype": "text/x-python",
   "name": "python",
   "nbconvert_exporter": "python",
   "pygments_lexer": "ipython3",
   "version": "3.8.5"
  }
 },
 "nbformat": 4,
 "nbformat_minor": 5
}
