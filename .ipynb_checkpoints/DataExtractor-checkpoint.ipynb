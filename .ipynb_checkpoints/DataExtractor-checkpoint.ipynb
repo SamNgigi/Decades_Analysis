{
 "cells": [
  {
   "cell_type": "code",
   "execution_count": 9,
   "id": "coated-adapter",
   "metadata": {},
   "outputs": [],
   "source": [
    "from typing import List, Dict\n",
    "import wikipediaapi as wk\n"
   ]
  },
  {
   "cell_type": "code",
   "execution_count": 2,
   "id": "metric-spell",
   "metadata": {},
   "outputs": [],
   "source": [
    "class DataExtractor:\n",
    "    pass"
   ]
  },
  {
   "cell_type": "code",
   "execution_count": 1,
   "id": "recreational-patient",
   "metadata": {},
   "outputs": [],
   "source": [
    "class WikiTransformer:\n",
    "    pass"
   ]
  },
  {
   "cell_type": "code",
   "execution_count": null,
   "id": "modular-lloyd",
   "metadata": {},
   "outputs": [],
   "source": []
  }
 ],
 "metadata": {
  "kernelspec": {
   "display_name": "Python3.8 (DS)",
   "language": "python",
   "name": "ds"
  },
  "language_info": {
   "codemirror_mode": {
    "name": "ipython",
    "version": 3
   },
   "file_extension": ".py",
   "mimetype": "text/x-python",
   "name": "python",
   "nbconvert_exporter": "python",
   "pygments_lexer": "ipython3",
   "version": "3.8.5"
  }
 },
 "nbformat": 4,
 "nbformat_minor": 5
}
