{
 "cells": [
  {
   "cell_type": "code",
   "execution_count": 9,
   "id": "smart-variable",
   "metadata": {},
   "outputs": [],
   "source": [
    "from typing import List, Dict\n",
    "import wikipediaapi as wk\n"
   ]
  },
  {
   "cell_type": "code",
   "execution_count": 28,
   "id": "frozen-vacation",
   "metadata": {},
   "outputs": [],
   "source": [
    "class DataExtractor():\n",
    "    \n",
    "    def __init__(self, start:int=1900, stop:int=2000)->None:\n",
    "        self.start = start;\n",
    "        self.stop = stop;\n",
    "        self.drange = []\n",
    "    \n",
    "    def __generate_drange(self)->List[str]:\n",
    "        \"\"\"\n",
    "        Returns list of decades\n",
    "        \"\"\"\n",
    "        self.drange = [f\"{str(i)}s\" for i in range(self.start, self.stop+1, 10)]\n",
    "        return self.drange\n",
    "    \n",
    "    def funct():\n",
    "        \n",
    "        pass"
   ]
  },
  {
   "cell_type": "code",
   "execution_count": 30,
   "id": "martial-henry",
   "metadata": {},
   "outputs": [],
   "source": [
    "tst = DataExtractor(1000, 2000)\n",
    "tst.drange"
   ]
  },
  {
   "cell_type": "code",
   "execution_count": 12,
   "id": "effective-clause",
   "metadata": {},
   "outputs": [
    {
     "data": {
      "text/plain": [
       "['1900s',\n",
       " '1910s',\n",
       " '1920s',\n",
       " '1930s',\n",
       " '1940s',\n",
       " '1950s',\n",
       " '1960s',\n",
       " '1970s',\n",
       " '1980s',\n",
       " '1990s',\n",
       " '2000s',\n",
       " '2010s']"
      ]
     },
     "execution_count": 12,
     "metadata": {},
     "output_type": "execute_result"
    }
   ],
   "source": [
    "generate_drange(1900, 2010)"
   ]
  },
  {
   "cell_type": "code",
   "execution_count": 7,
   "id": "extra-experiment",
   "metadata": {},
   "outputs": [],
   "source": [
    "x:List[int]"
   ]
  },
  {
   "cell_type": "code",
   "execution_count": 8,
   "id": "pharmaceutical-draft",
   "metadata": {},
   "outputs": [],
   "source": [
    "x = [1, \"test\"]"
   ]
  },
  {
   "cell_type": "code",
   "execution_count": null,
   "id": "irish-registration",
   "metadata": {},
   "outputs": [],
   "source": []
  }
 ],
 "metadata": {
  "kernelspec": {
   "display_name": "Python3.8 (DS)",
   "language": "python",
   "name": "ds"
  },
  "language_info": {
   "codemirror_mode": {
    "name": "ipython",
    "version": 3
   },
   "file_extension": ".py",
   "mimetype": "text/x-python",
   "name": "python",
   "nbconvert_exporter": "python",
   "pygments_lexer": "ipython3",
   "version": "3.8.5"
  }
 },
 "nbformat": 4,
 "nbformat_minor": 5
}
