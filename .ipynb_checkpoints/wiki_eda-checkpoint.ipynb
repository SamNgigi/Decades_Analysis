{
 "cells": [
  {
   "cell_type": "markdown",
   "id": "exposed-alcohol",
   "metadata": {},
   "source": [
    "## Loading libs & data"
   ]
  },
  {
   "cell_type": "code",
   "execution_count": 7,
   "id": "ideal-railway",
   "metadata": {},
   "outputs": [],
   "source": [
    "import pandas as pd\n",
    "import numpy as np\n",
    "import matplotlib.pyplot as plt\n",
    "import seaborn as sns\n",
    "\n",
    "import wikipediaapi as wk\n",
    "from myWiki import WikiDecadeETL"
   ]
  },
  {
   "cell_type": "code",
   "execution_count": 2,
   "id": "structured-africa",
   "metadata": {},
   "outputs": [
    {
     "name": "stdout",
     "output_type": "stream",
     "text": [
      "(528, 4)\n"
     ]
    },
    {
     "data": {
      "text/html": [
       "<div>\n",
       "<style scoped>\n",
       "    .dataframe tbody tr th:only-of-type {\n",
       "        vertical-align: middle;\n",
       "    }\n",
       "\n",
       "    .dataframe tbody tr th {\n",
       "        vertical-align: top;\n",
       "    }\n",
       "\n",
       "    .dataframe thead th {\n",
       "        text-align: right;\n",
       "    }\n",
       "</style>\n",
       "<table border=\"1\" class=\"dataframe\">\n",
       "  <thead>\n",
       "    <tr style=\"text-align: right;\">\n",
       "      <th></th>\n",
       "      <th>section</th>\n",
       "      <th>text</th>\n",
       "      <th>sub_section</th>\n",
       "      <th>decade</th>\n",
       "    </tr>\n",
       "  </thead>\n",
       "  <tbody>\n",
       "    <tr>\n",
       "      <th>0</th>\n",
       "      <td>Politics and wars</td>\n",
       "      <td>Major political changes\\nNew Imperialism\\nThe ...</td>\n",
       "      <td>Major political changes</td>\n",
       "      <td>1900s (decade)</td>\n",
       "    </tr>\n",
       "    <tr>\n",
       "      <th>1</th>\n",
       "      <td>Politics and wars</td>\n",
       "      <td>Wars\\nSecond Boer War ends.\\nPhilippine–Americ...</td>\n",
       "      <td>Wars</td>\n",
       "      <td>1900s (decade)</td>\n",
       "    </tr>\n",
       "    <tr>\n",
       "      <th>2</th>\n",
       "      <td>Politics and wars</td>\n",
       "      <td>Internal conflicts\\nThe Boxer Rebellion ends.\\...</td>\n",
       "      <td>Internal conflicts</td>\n",
       "      <td>1900s (decade)</td>\n",
       "    </tr>\n",
       "    <tr>\n",
       "      <th>3</th>\n",
       "      <td>Politics and wars</td>\n",
       "      <td>Colonization\\nJanuary 1, 1901, British colonie...</td>\n",
       "      <td>Colonization</td>\n",
       "      <td>1900s (decade)</td>\n",
       "    </tr>\n",
       "    <tr>\n",
       "      <th>4</th>\n",
       "      <td>Politics and wars</td>\n",
       "      <td>Decolonization\\nMay 20, 1902 – Cuba gains inde...</td>\n",
       "      <td>Decolonization</td>\n",
       "      <td>1900s (decade)</td>\n",
       "    </tr>\n",
       "  </tbody>\n",
       "</table>\n",
       "</div>"
      ],
      "text/plain": [
       "             section                                               text  \\\n",
       "0  Politics and wars  Major political changes\\nNew Imperialism\\nThe ...   \n",
       "1  Politics and wars  Wars\\nSecond Boer War ends.\\nPhilippine–Americ...   \n",
       "2  Politics and wars  Internal conflicts\\nThe Boxer Rebellion ends.\\...   \n",
       "3  Politics and wars  Colonization\\nJanuary 1, 1901, British colonie...   \n",
       "4  Politics and wars  Decolonization\\nMay 20, 1902 – Cuba gains inde...   \n",
       "\n",
       "               sub_section          decade  \n",
       "0  Major political changes  1900s (decade)  \n",
       "1                     Wars  1900s (decade)  \n",
       "2       Internal conflicts  1900s (decade)  \n",
       "3             Colonization  1900s (decade)  \n",
       "4           Decolonization  1900s (decade)  "
      ]
     },
     "execution_count": 2,
     "metadata": {},
     "output_type": "execute_result"
    }
   ],
   "source": [
    "data = pd.read_csv(\"data/1900_2020s.csv\")\n",
    "print(data.shape)\n",
    "data.head()"
   ]
  },
  {
   "cell_type": "code",
   "execution_count": 3,
   "id": "rolled-preference",
   "metadata": {},
   "outputs": [
    {
     "data": {
      "text/html": [
       "<div>\n",
       "<style scoped>\n",
       "    .dataframe tbody tr th:only-of-type {\n",
       "        vertical-align: middle;\n",
       "    }\n",
       "\n",
       "    .dataframe tbody tr th {\n",
       "        vertical-align: top;\n",
       "    }\n",
       "\n",
       "    .dataframe thead th {\n",
       "        text-align: right;\n",
       "    }\n",
       "</style>\n",
       "<table border=\"1\" class=\"dataframe\">\n",
       "  <thead>\n",
       "    <tr style=\"text-align: right;\">\n",
       "      <th></th>\n",
       "      <th>section</th>\n",
       "      <th>text</th>\n",
       "      <th>sub_section</th>\n",
       "      <th>decade</th>\n",
       "    </tr>\n",
       "  </thead>\n",
       "  <tbody>\n",
       "    <tr>\n",
       "      <th>523</th>\n",
       "      <td>Culture</td>\n",
       "      <td>Music\\nIn 2020, TikTok became an important mus...</td>\n",
       "      <td>Music</td>\n",
       "      <td>2020s</td>\n",
       "    </tr>\n",
       "    <tr>\n",
       "      <th>524</th>\n",
       "      <td>Culture</td>\n",
       "      <td>Video games\\nThe ninth generation of consoles ...</td>\n",
       "      <td>Video games</td>\n",
       "      <td>2020s</td>\n",
       "    </tr>\n",
       "    <tr>\n",
       "      <th>525</th>\n",
       "      <td>Culture</td>\n",
       "      <td>Architecture\\n</td>\n",
       "      <td>Architecture</td>\n",
       "      <td>2020s</td>\n",
       "    </tr>\n",
       "    <tr>\n",
       "      <th>526</th>\n",
       "      <td>Culture</td>\n",
       "      <td>Sports\\nTokyo was to host the Olympic Games fo...</td>\n",
       "      <td>Sports</td>\n",
       "      <td>2020s</td>\n",
       "    </tr>\n",
       "    <tr>\n",
       "      <th>527</th>\n",
       "      <td>See also</td>\n",
       "      <td>See also\\nTimeline of the near future\\n\\n</td>\n",
       "      <td>See also</td>\n",
       "      <td>2020s</td>\n",
       "    </tr>\n",
       "  </tbody>\n",
       "</table>\n",
       "</div>"
      ],
      "text/plain": [
       "      section                                               text  \\\n",
       "523   Culture  Music\\nIn 2020, TikTok became an important mus...   \n",
       "524   Culture  Video games\\nThe ninth generation of consoles ...   \n",
       "525   Culture                                     Architecture\\n   \n",
       "526   Culture  Sports\\nTokyo was to host the Olympic Games fo...   \n",
       "527  See also          See also\\nTimeline of the near future\\n\\n   \n",
       "\n",
       "      sub_section decade  \n",
       "523         Music  2020s  \n",
       "524   Video games  2020s  \n",
       "525  Architecture  2020s  \n",
       "526        Sports  2020s  \n",
       "527      See also  2020s  "
      ]
     },
     "execution_count": 3,
     "metadata": {},
     "output_type": "execute_result"
    }
   ],
   "source": [
    "data.tail()"
   ]
  },
  {
   "cell_type": "code",
   "execution_count": 5,
   "id": "catholic-variation",
   "metadata": {},
   "outputs": [
    {
     "data": {
      "text/plain": [
       "Politics and wars                          112\n",
       "Popular culture                            111\n",
       "People                                      69\n",
       "Science and technology                      47\n",
       "Disasters                                   46\n",
       "Politics and conflicts                      36\n",
       "Economics                                   18\n",
       "Culture                                     16\n",
       "Society                                     15\n",
       "Assassinations and attempts                 13\n",
       "See also                                     8\n",
       "Social and political movements               8\n",
       "Technology and science                       6\n",
       "Technology                                   5\n",
       "Popular memory                               2\n",
       "Population and social issues                 1\n",
       "Religion and irreligion                      1\n",
       "Health                                       1\n",
       "Economy                                      1\n",
       "Cyber security and hacking                   1\n",
       "Social history                               1\n",
       "Health and society                           1\n",
       "Cybersecurity and hacking                    1\n",
       "Religion                                     1\n",
       "Other significant international events       1\n",
       "Worldwide trends                             1\n",
       "Additional notable worldwide events          1\n",
       "Name for the decade                          1\n",
       "Environment and climate change               1\n",
       "Environment                                  1\n",
       "Additional significant worldwide events      1\n",
       "Name: section, dtype: int64"
      ]
     },
     "execution_count": 5,
     "metadata": {},
     "output_type": "execute_result"
    }
   ],
   "source": [
    "data.section.value_counts()"
   ]
  },
  {
   "cell_type": "code",
   "execution_count": 8,
   "id": "racial-meeting",
   "metadata": {},
   "outputs": [
    {
     "data": {
      "text/plain": [
       "Assassinations and attempts        13\n",
       "Prominent political events         13\n",
       "Fashion                            12\n",
       "Film                               12\n",
       "Music                              12\n",
       "                                   ..\n",
       "Other natural events                1\n",
       "Youth suffrage                      1\n",
       "Activists and religious leaders     1\n",
       "Energy crisis                       1\n",
       "LGBT rights                         1\n",
       "Name: sub_section, Length: 232, dtype: int64"
      ]
     },
     "execution_count": 8,
     "metadata": {},
     "output_type": "execute_result"
    }
   ],
   "source": [
    "data.sub_section.value_counts()"
   ]
  },
  {
   "cell_type": "code",
   "execution_count": 6,
   "id": "attractive-synthetic",
   "metadata": {},
   "outputs": [
    {
     "data": {
      "text/html": [
       "<div>\n",
       "<style scoped>\n",
       "    .dataframe tbody tr th:only-of-type {\n",
       "        vertical-align: middle;\n",
       "    }\n",
       "\n",
       "    .dataframe tbody tr th {\n",
       "        vertical-align: top;\n",
       "    }\n",
       "\n",
       "    .dataframe thead th {\n",
       "        text-align: right;\n",
       "    }\n",
       "</style>\n",
       "<table border=\"1\" class=\"dataframe\">\n",
       "  <thead>\n",
       "    <tr style=\"text-align: right;\">\n",
       "      <th></th>\n",
       "      <th>section</th>\n",
       "      <th>text</th>\n",
       "      <th>sub_section</th>\n",
       "      <th>decade</th>\n",
       "    </tr>\n",
       "  </thead>\n",
       "  <tbody>\n",
       "    <tr>\n",
       "      <th>152</th>\n",
       "      <td>See also</td>\n",
       "      <td>Timeline\\nThe following articles contain brief...</td>\n",
       "      <td>Timeline</td>\n",
       "      <td>1940s</td>\n",
       "    </tr>\n",
       "    <tr>\n",
       "      <th>182</th>\n",
       "      <td>See also</td>\n",
       "      <td>Timeline\\nThe following articles contain brief...</td>\n",
       "      <td>Timeline</td>\n",
       "      <td>1950s</td>\n",
       "    </tr>\n",
       "    <tr>\n",
       "      <th>239</th>\n",
       "      <td>See also</td>\n",
       "      <td>Timelines\\nThe following articles contain brie...</td>\n",
       "      <td>Timelines</td>\n",
       "      <td>1960s</td>\n",
       "    </tr>\n",
       "    <tr>\n",
       "      <th>288</th>\n",
       "      <td>See also</td>\n",
       "      <td>Timeline\\nThe following articles contain brief...</td>\n",
       "      <td>Timeline</td>\n",
       "      <td>1970s</td>\n",
       "    </tr>\n",
       "    <tr>\n",
       "      <th>319</th>\n",
       "      <td>See also</td>\n",
       "      <td>Timeline\\nThe following articles contain brief...</td>\n",
       "      <td>Timeline</td>\n",
       "      <td>1980s</td>\n",
       "    </tr>\n",
       "    <tr>\n",
       "      <th>360</th>\n",
       "      <td>See also</td>\n",
       "      <td>Timeline\\nThe following articles contain brief...</td>\n",
       "      <td>Timeline</td>\n",
       "      <td>1990s</td>\n",
       "    </tr>\n",
       "    <tr>\n",
       "      <th>429</th>\n",
       "      <td>See also</td>\n",
       "      <td>Timeline\\nThe following articles contain brief...</td>\n",
       "      <td>Timeline</td>\n",
       "      <td>2000s (decade)</td>\n",
       "    </tr>\n",
       "    <tr>\n",
       "      <th>527</th>\n",
       "      <td>See also</td>\n",
       "      <td>See also\\nTimeline of the near future\\n\\n</td>\n",
       "      <td>See also</td>\n",
       "      <td>2020s</td>\n",
       "    </tr>\n",
       "  </tbody>\n",
       "</table>\n",
       "</div>"
      ],
      "text/plain": [
       "      section                                               text sub_section  \\\n",
       "152  See also  Timeline\\nThe following articles contain brief...    Timeline   \n",
       "182  See also  Timeline\\nThe following articles contain brief...    Timeline   \n",
       "239  See also  Timelines\\nThe following articles contain brie...   Timelines   \n",
       "288  See also  Timeline\\nThe following articles contain brief...    Timeline   \n",
       "319  See also  Timeline\\nThe following articles contain brief...    Timeline   \n",
       "360  See also  Timeline\\nThe following articles contain brief...    Timeline   \n",
       "429  See also  Timeline\\nThe following articles contain brief...    Timeline   \n",
       "527  See also          See also\\nTimeline of the near future\\n\\n    See also   \n",
       "\n",
       "             decade  \n",
       "152           1940s  \n",
       "182           1950s  \n",
       "239           1960s  \n",
       "288           1970s  \n",
       "319           1980s  \n",
       "360           1990s  \n",
       "429  2000s (decade)  \n",
       "527           2020s  "
      ]
     },
     "execution_count": 6,
     "metadata": {},
     "output_type": "execute_result"
    }
   ],
   "source": [
    "data[data[\"section\"] == \"See also\"]"
   ]
  },
  {
   "cell_type": "markdown",
   "id": "opened-rogers",
   "metadata": {},
   "source": [
    "It would seem __\"See also\"__ wasn't completetly eliminated when transforming the pages. \n",
    "\n",
    "We can deal with this in 3 ways\n",
    "\n",
    "1. Investigate this is happening and fix the bug in WikiDecadeETL\n",
    "2. Drop rows with \"See also\" when df is created in the class\n",
    "3. Drop rows with \"See also\" when performing EDA.\n",
    "\n",
    "We'll put this as todo for now"
   ]
  },
  {
   "cell_type": "code",
   "execution_count": null,
   "id": "prompt-synthesis",
   "metadata": {},
   "outputs": [],
   "source": []
  }
 ],
 "metadata": {
  "kernelspec": {
   "display_name": "Python3.8 (DS)",
   "language": "python",
   "name": "ds"
  },
  "language_info": {
   "codemirror_mode": {
    "name": "ipython",
    "version": 3
   },
   "file_extension": ".py",
   "mimetype": "text/x-python",
   "name": "python",
   "nbconvert_exporter": "python",
   "pygments_lexer": "ipython3",
   "version": "3.8.5"
  },
  "toc-showmarkdowntxt": true,
  "toc-showtags": true
 },
 "nbformat": 4,
 "nbformat_minor": 5
}
